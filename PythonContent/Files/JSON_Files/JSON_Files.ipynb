{
 "cells": [
  {
   "cell_type": "code",
   "execution_count": 2,
   "metadata": {},
   "outputs": [],
   "source": [
    "import json\n",
    "\n",
    "\n",
    "# Store data into a JSON file\n",
    "numbers = [1,2,3,4,5,6,7]\n",
    "\n",
    "with open(\"numbers.json\", \"w\") as f:\n",
    "    json.dump(numbers, f)"
   ]
  },
  {
   "cell_type": "code",
   "execution_count": 3,
   "metadata": {},
   "outputs": [
    {
     "name": "stdout",
     "output_type": "stream",
     "text": [
      "[1, 2, 3, 4, 5, 6, 7]\n"
     ]
    }
   ],
   "source": [
    "# Read data from a JSON file\n",
    "\n",
    "with open(\"numbers.json\", \"r\") as f:\n",
    "    numbers = json.load(f)\n",
    "\n",
    "print(numbers)"
   ]
  },
  {
   "cell_type": "code",
   "execution_count": null,
   "metadata": {},
   "outputs": [],
   "source": [
    "# Example \n",
    "\n",
    "# Create 4 objects and store them in a json file\n",
    "from random import randrange\n",
    "\n",
    "with open(\"random_objects.json\", \"w\") as f:\n",
    "    for _ in range(4):\n",
    "        if randrange(3) == 0:\n",
    "            json.dump([1,2,3], f)\n",
    "        elif randrange(3) == 1:\n",
    "            json.dump({\"a\":1, \"b\":2, \"c\":3}, f)\n",
    "        else:\n",
    "            json.dump(4, f)\n",
    "        f.write(\"\\n\")\n",
    "\n",
    "with open(\"random_objects.json\", \"r\") as f:\n",
    "    for object in f:\n",
    "\n",
    "        # object is string\n",
    "        # We call json.loads(string) to convert from json to an object\n",
    "        print(json.loads(object))\n"
   ]
  }
 ],
 "metadata": {
  "interpreter": {
   "hash": "a45af67fc7882f7df34fca4bd34ac229ead963c4c77e66621640d4876c142c1a"
  },
  "kernelspec": {
   "display_name": "Python 3.8.5 64-bit",
   "name": "python3"
  },
  "language_info": {
   "codemirror_mode": {
    "name": "ipython",
    "version": 3
   },
   "file_extension": ".py",
   "mimetype": "text/x-python",
   "name": "python",
   "nbconvert_exporter": "python",
   "pygments_lexer": "ipython3",
   "version": "3.8.5"
  },
  "orig_nbformat": 4
 },
 "nbformat": 4,
 "nbformat_minor": 2
}
