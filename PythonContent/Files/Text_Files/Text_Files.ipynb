{
 "cells": [
  {
   "cell_type": "markdown",
   "metadata": {},
   "source": [
    "# Text Files\n",
    "\n",
    "# How to open a text file\n",
    "\n",
    "    # f = open(filename, mode)\n",
    "\n",
    "    # mode\n",
    "\n",
    "        # r : reading(default)\n",
    "        # w : writing \n",
    "        # a : appending\n",
    "        # r+ : reading and writing\n",
    "\n",
    "    # filename\n",
    "\n",
    "        # The name of the file we want to open\n"
   ]
  },
  {
   "cell_type": "code",
   "execution_count": 1,
   "metadata": {},
   "outputs": [],
   "source": [
    "# Example 1\n",
    "\n",
    "# Default way to open a file\n",
    "\n",
    "f = open(\"test.txt\", \"w\")\n",
    "f.write(\"This is a test file.\")\n",
    "f.close()"
   ]
  },
  {
   "cell_type": "code",
   "execution_count": null,
   "metadata": {},
   "outputs": [],
   "source": [
    "# Example 2\n",
    "\n",
    "# Alternative way to open a file\n",
    "\n",
    "with open(\"test.txt\", \"w\") as f:\n",
    "    f.write(\"this is a test.\")\n",
    "    f.write(\"This is another test.\")"
   ]
  },
  {
   "cell_type": "code",
   "execution_count": 4,
   "metadata": {},
   "outputs": [],
   "source": [
    "# Example 3\n",
    "\n",
    "# Create a list with 1500 random numbers and store them in\n",
    "# a file. Store each number in adifferent line\n",
    "\n",
    "import random\n",
    "\n",
    "random_list = [random.randint(0,101) for _ in range(1500)]\n",
    "\n",
    "with open(\"numbers.txt\", \"w\") as number_file:\n",
    "    for i in range(1500):\n",
    "        number_file.write(str(random_list[i]) + \"\\n\")"
   ]
  },
  {
   "cell_type": "code",
   "execution_count": null,
   "metadata": {},
   "outputs": [],
   "source": [
    "# Example 4\n",
    "\n",
    "# Read 'numbers.txt' file and print the contents\n",
    "\n",
    "with open(\"numbers.txt\", \"r\") as number_file:\n",
    "    for line in number_file:\n",
    "        print(line)"
   ]
  },
  {
   "cell_type": "code",
   "execution_count": null,
   "metadata": {},
   "outputs": [],
   "source": [
    "# Example 5\n",
    "\n",
    "# Store the numbers in \"numbers.txt\" in a list\n",
    "\n",
    "with open(\"numbers.txt\", \"r\") as number_file:\n",
    "    lines = number_file.readlines()\n",
    "    \n",
    "print(lines)\n",
    "\n",
    "# Remove the '\\n' from the 'lines' list\n",
    "\n",
    "for i in range(len(lines)-1):\n",
    "    if lines[i][len(lines[i])-1] == '\\n':\n",
    "        lines[i]  = lines[i][:len(lines[i])-1]\n",
    "\n",
    "print(lines)"
   ]
  },
  {
   "cell_type": "code",
   "execution_count": 9,
   "metadata": {},
   "outputs": [],
   "source": [
    "# Example 6\n",
    "\n",
    "# Create a function copy to copy the contents of 'numbers.txt' to\n",
    "# 'new_numbers.txt'\n",
    "\n",
    "def copy(filename1, filename2):\n",
    "    new_numbers_file = open(filename2, \"w\")\n",
    "\n",
    "    with open(filename1, \"r\") as numbers_file:\n",
    "        for line in numbers_file:\n",
    "            new_numbers_file.write(line)\n",
    "\n",
    "    new_numbers_file.close()\n",
    "\n",
    "copy(\"numbers.txt\", \"new_numbers.txt\")"
   ]
  },
  {
   "cell_type": "code",
   "execution_count": null,
   "metadata": {},
   "outputs": [],
   "source": []
  }
 ],
 "metadata": {
  "interpreter": {
   "hash": "a45af67fc7882f7df34fca4bd34ac229ead963c4c77e66621640d4876c142c1a"
  },
  "kernelspec": {
   "display_name": "Python 3.8.5 64-bit",
   "name": "python3"
  },
  "language_info": {
   "codemirror_mode": {
    "name": "ipython",
    "version": 3
   },
   "file_extension": ".py",
   "mimetype": "text/x-python",
   "name": "python",
   "nbconvert_exporter": "python",
   "pygments_lexer": "ipython3",
   "version": "3.8.5"
  },
  "orig_nbformat": 4
 },
 "nbformat": 4,
 "nbformat_minor": 2
}
