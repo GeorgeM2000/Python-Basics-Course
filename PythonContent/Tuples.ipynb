{
 "cells": [
  {
   "cell_type": "code",
   "execution_count": null,
   "metadata": {},
   "outputs": [],
   "source": [
    "# Tuples \n",
    "\n",
    "int_tuple = (1,2,3)\n",
    "Collection = (\"George\", 3.14, True)\n",
    "empty_tuple = ()\n",
    "\n",
    "print(Collection)\n",
    "print(type(int_tuple))"
   ]
  },
  {
   "cell_type": "code",
   "execution_count": null,
   "metadata": {},
   "outputs": [],
   "source": [
    "# Example\n",
    "my_tuple = (1,2,3)\n",
    "\n",
    "print(my_tuple[1:3])\n",
    "print(my_tuple[1] + 4)\n",
    "for element in my_tuple:\n",
    "    print(element)"
   ]
  },
  {
   "cell_type": "code",
   "execution_count": 2,
   "metadata": {},
   "outputs": [
    {
     "name": "stdout",
     "output_type": "stream",
     "text": [
      "<class 'tuple'>\n",
      "<class 'list'>\n",
      "[1, 3]\n",
      "['h', 'e', 'l', 'l', 'o']\n"
     ]
    }
   ],
   "source": [
    "# Conversions\n",
    "my_list = [1,2,3]\n",
    "my_tuple = tuple(my_list)\n",
    "print(type(my_tuple))\n",
    "\n",
    "my_tuple = (1,2,3)\n",
    "my_list = list(my_tuple)\n",
    "print(type(my_list))\n",
    "\n",
    "my_list = list(range(1,4,2))\n",
    "print(my_list)\n",
    "\n",
    "msg = \"Hello\"\n",
    "string_list = list(msg)\n",
    "string_list[0] = \"h\"\n",
    "print(string_list)\n"
   ]
  },
  {
   "cell_type": "code",
   "execution_count": null,
   "metadata": {},
   "outputs": [],
   "source": [
    "# Example \n",
    "numbers = (1,2,3,4,3,2,3)\n",
    "print(f\"Length: {len(numbers)}\")\n",
    "print(f\"min: {min(numbers)}\")\n",
    "print(f\"max: {max(numbers)}\")\n",
    "print(f\"Count 3s: {numbers.count(3)}\")\n",
    "print(f\"Position of 3: {numbers.index(3,4)}\")"
   ]
  },
  {
   "cell_type": "code",
   "execution_count": null,
   "metadata": {},
   "outputs": [],
   "source": [
    "# Example \n",
    "my_list = [1,2,3]\n",
    "new_list = ((my_list * 2)[1:5] + list((7,8))) * 4\n",
    "print(new_list)\n",
    "print(str((my_list+new_list).count(2)))"
   ]
  }
 ],
 "metadata": {
  "interpreter": {
   "hash": "a45af67fc7882f7df34fca4bd34ac229ead963c4c77e66621640d4876c142c1a"
  },
  "kernelspec": {
   "display_name": "Python 3.8.5 64-bit",
   "name": "python3"
  },
  "language_info": {
   "codemirror_mode": {
    "name": "ipython",
    "version": 3
   },
   "file_extension": ".py",
   "mimetype": "text/x-python",
   "name": "python",
   "nbconvert_exporter": "python",
   "pygments_lexer": "ipython3",
   "version": "3.8.5"
  },
  "orig_nbformat": 4
 },
 "nbformat": 4,
 "nbformat_minor": 2
}
