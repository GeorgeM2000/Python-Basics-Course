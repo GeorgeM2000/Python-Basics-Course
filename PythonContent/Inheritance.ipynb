{
 "cells": [
  {
   "cell_type": "code",
   "execution_count": null,
   "metadata": {},
   "outputs": [],
   "source": [
    "# Inheritance\n",
    "\n",
    "class Base:\n",
    "    pass\n",
    "\n",
    "class Derived(Base):\n",
    "    pass"
   ]
  },
  {
   "cell_type": "code",
   "execution_count": null,
   "metadata": {},
   "outputs": [],
   "source": [
    "# Base class\n",
    "class Base:\n",
    "    def __init__(self,b_attr):\n",
    "        self.b_attr = b_attr\n",
    "\n",
    "# Derived class inherits from Base class\n",
    "class Derived(Base):\n",
    "    def __init__(self, b_attr, d_attr):\n",
    "        super().__init__(b_attr)\n",
    "        self.d_attr = d_attr"
   ]
  },
  {
   "cell_type": "code",
   "execution_count": null,
   "metadata": {},
   "outputs": [],
   "source": [
    "# Example \n",
    "class Animal:\n",
    "    def __init__(self, weight, height):\n",
    "        self.weight = weight\n",
    "        self.height = height\n",
    "\n",
    "class Horse(Animal):\n",
    "    def __init__(self, weight, height, color, tail_length):\n",
    "        super().__init__(weight, height)\n",
    "        self.color = color\n",
    "        self.tail_length = tail_length\n",
    "\n",
    "class Dog(Animal):\n",
    "    def __init__(self, weight, height, breed, bark_volume):\n",
    "        super().__init__(weight, height)\n",
    "        self.breed = breed\n",
    "        self.bark_volume = bark_volume\n",
    "\n",
    "    def bark(self):\n",
    "        print(\"woof\")\n",
    "\n",
    "class Doberman(Dog):\n",
    "    def __init__(self, weight, height, breed, bark_volume):\n",
    "        super().__init__(weight, height, breed, bark_volume)\n",
    "\n",
    "    def run(self):\n",
    "        print(\"Doberman is running\")\n",
    "\n",
    "class Bulldog(Dog):\n",
    "    def __init__(self, weight, height, breed, bark_volume, ear_size):\n",
    "        super().__init__(weight, height, breed, bark_volume)\n",
    "        self.ear_size = ear_size\n",
    "\n",
    "    def sleep(self):\n",
    "        print(\"Bulldog is sleeping\")\n",
    "\n",
    "black_horse = Horse(600, \"2m\", \"Black\", \"10cm\")\n",
    "doberman = Doberman(50, \"1m\", \"Doberman\", \"50db\")\n",
    "bulldog = Bulldog(35, \"80cm\", \"Bulldog\", \"50db\", 0.4)\n",
    "\n",
    "doberman.run()\n",
    "bulldog.sleep()\n"
   ]
  },
  {
   "cell_type": "code",
   "execution_count": null,
   "metadata": {},
   "outputs": [],
   "source": [
    "# Method overriding\n",
    "\n",
    "class User:\n",
    "    def __init__(self, username, password):\n",
    "        self.usern = username\n",
    "        self.passw = password\n",
    "    \n",
    "    def show_info(self):\n",
    "        print(f'Username:{self.usern} Password:{self.passw}')\n",
    "\n",
    "\n",
    "class Superuser(User):\n",
    "    users = {}\n",
    "    def __init__(self, username, password, users_list):\n",
    "        super().__init__(username, password)\n",
    "        for user in users_list:\n",
    "            Superuser.users[user.usern] = user.passw\n",
    "\n",
    "    def show_info(self):\n",
    "        for key,val in Superuser.users.items():\n",
    "            print(f'Username:{key} Password:{val}')\n",
    "\n",
    "user_list = []\n",
    "user1 = User(\"GeorgeM\", \"1234\")\n",
    "user_list.append(user1)\n",
    "user2 = User(\"Mariam\", \"23456\")\n",
    "user_list.append(user2)\n",
    "\n",
    "# Call User show_info()\n",
    "user1.show_info()\n",
    "print()\n",
    "\n",
    "suser = Superuser(\"PanosMP\", \"4457\", user_list)\n",
    "# Call Supeuser show_info()\n",
    "suser.show_info()\n"
   ]
  },
  {
   "cell_type": "code",
   "execution_count": null,
   "metadata": {},
   "outputs": [],
   "source": [
    "# How to call a superclass method\n",
    "\n",
    "class Base:\n",
    "    def __init__(self,b_attr):\n",
    "        self.b_attr = b_attr\n",
    "    def __str__(self):\n",
    "        return \"Base class\"\n",
    "\n",
    "class Derived(Base):\n",
    "    def __init__(self, b_attr, d_attr):\n",
    "        super().__init__(b_attr)\n",
    "        self.d_attr = d_attr\n",
    "\n",
    "    def __str__(self):\n",
    "        return \"Derived class\"\n",
    "\n",
    "    def show_info(self):\n",
    "        return super().__str__() + \" AND \" + self.__str__()\n",
    "\n",
    "d = Derived(1,2)\n",
    "print(d.show_info())"
   ]
  },
  {
   "cell_type": "code",
   "execution_count": 3,
   "metadata": {},
   "outputs": [
    {
     "name": "stdout",
     "output_type": "stream",
     "text": [
      "1\n",
      "1\n",
      "1\n"
     ]
    }
   ],
   "source": [
    "# Protected and Private access\n",
    "\n",
    "# Protected access\n",
    "\n",
    "class Base:\n",
    "    def __init__(self):\n",
    "        self._b_attr = 1\n",
    "\n",
    "class Derived(Base):\n",
    "    def __init__(self):\n",
    "        super().__init__()\n",
    "        print(self._b_attr)\n",
    "\n",
    "\n",
    "d =Derived()\n",
    "print(d._b_attr)\n",
    "\n",
    "\n",
    "# Private access\n",
    "\n",
    "class Base:\n",
    "    def __init__(self):\n",
    "        self.__b_attr = 1\n",
    "\n",
    "class Derived(Base):\n",
    "    def __init__(self):\n",
    "        super().__init__()\n",
    "\n",
    "d =Derived()\n",
    "print(d._Base__b_attr)"
   ]
  },
  {
   "cell_type": "code",
   "execution_count": 4,
   "metadata": {},
   "outputs": [
    {
     "name": "stdout",
     "output_type": "stream",
     "text": [
      "1 2 3\n"
     ]
    }
   ],
   "source": [
    "# Multiple Inheritance\n",
    "\n",
    "class Base1:\n",
    "    def __init__(self, b1_attr):\n",
    "        self.b1_attr = b1_attr\n",
    "\n",
    "class Base2:\n",
    "    def __init__(self, b2_attr):\n",
    "        self.b2_attr = b2_attr\n",
    "\n",
    "class Derived(Base1, Base2):\n",
    "    def __init__(self, b1_attr, b2_attr, d_attr):\n",
    "        Base1.__init__(self,b1_attr)\n",
    "        Base2.__init__(self,b2_attr)\n",
    "        self.d_attr = d_attr\n",
    "\n",
    "d = Derived(1,2,3)\n",
    "print(f'{d.b1_attr} {d.b2_attr} {d.d_attr}')"
   ]
  },
  {
   "cell_type": "code",
   "execution_count": 5,
   "metadata": {},
   "outputs": [
    {
     "name": "stdout",
     "output_type": "stream",
     "text": [
      "Now i think\n",
      "Now i rule\n"
     ]
    }
   ],
   "source": [
    "# Example\n",
    "\n",
    "class Philosopher:\n",
    "    def __init__(self, school):\n",
    "        self.school = school\n",
    "    def think(self):\n",
    "        print(\"Now i think\")\n",
    "\n",
    "class King:\n",
    "    def __init__(self, realm):\n",
    "        self.realm = realm\n",
    "    def rule(self):\n",
    "        print(\"Now i rule\")\n",
    "\n",
    "class Philosopher_King(King, Philosopher):\n",
    "    def __init__(self, realm, school):\n",
    "        King.__init__(self, realm)\n",
    "        Philosopher.__init__(self,school)\n",
    "\n",
    "    def routine(self):\n",
    "        self.think()\n",
    "        self.rule()\n",
    "\n",
    "marcus_aurelius = Philosopher_King(\"Roman Empire\", \"Stoic\")\n",
    "marcus_aurelius.routine()\n"
   ]
  },
  {
   "cell_type": "code",
   "execution_count": null,
   "metadata": {},
   "outputs": [],
   "source": [
    "# Abstract Classes\n",
    "from abc import ABC, abstractmethod\n",
    "\n",
    "class MyAbstractClass(ABC):\n",
    "    def __init__(self, attr):\n",
    "        self.attr = attr\n",
    "\n",
    "    @abstractmethod\n",
    "    def abstract_method(self):\n",
    "        pass\n",
    "\n",
    "ob = MyAbstractClass(1)"
   ]
  }
 ],
 "metadata": {
  "interpreter": {
   "hash": "a45af67fc7882f7df34fca4bd34ac229ead963c4c77e66621640d4876c142c1a"
  },
  "kernelspec": {
   "display_name": "Python 3.8.5 64-bit",
   "name": "python3"
  },
  "language_info": {
   "codemirror_mode": {
    "name": "ipython",
    "version": 3
   },
   "file_extension": ".py",
   "mimetype": "text/x-python",
   "name": "python",
   "nbconvert_exporter": "python",
   "pygments_lexer": "ipython3",
   "version": "3.8.5"
  },
  "orig_nbformat": 4
 },
 "nbformat": 4,
 "nbformat_minor": 2
}
