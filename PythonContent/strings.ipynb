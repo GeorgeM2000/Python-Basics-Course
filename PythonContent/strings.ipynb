{
 "cells": [
  {
   "cell_type": "code",
   "execution_count": 1,
   "source": [
    "# String conversions\r\n",
    "print(\"int : \", str(5))\r\n",
    "print(\"float : \", str(5.0))\r\n",
    "print(\"boolean : \", str(True))\r\n",
    "print(\"list : \", str([1,2]))\r\n",
    "print(\"tuple : \", str((1,2)))\r\n",
    "print(\"set : \", str({1,2}))\r\n",
    "print(\"dict : \", str({1:2, 3:4}))"
   ],
   "outputs": [
    {
     "output_type": "stream",
     "name": "stdout",
     "text": [
      "int :  5\n",
      "float :  5.0\n",
      "boolean :  True\n",
      "list :  [1, 2]\n",
      "tuple :  (1, 2)\n",
      "set :  {1, 2}\n",
      "dict :  {1: 2, 3: 4}\n"
     ]
    }
   ],
   "metadata": {}
  },
  {
   "cell_type": "code",
   "execution_count": 2,
   "source": [
    "# Convert a string into a list\r\n",
    "print(list(\"My name is George\"))"
   ],
   "outputs": [
    {
     "output_type": "stream",
     "name": "stdout",
     "text": [
      "['M', 'y', ' ', 'n', 'a', 'm', 'e', ' ', 'i', 's', ' ', 'G', 'e', 'o', 'r', 'g', 'e']\n"
     ]
    }
   ],
   "metadata": {}
  },
  {
   "cell_type": "code",
   "execution_count": null,
   "source": [
    "# Join strings\r\n",
    "print(\" \".join([\"a\", \"b\", \"c\"]))\r\n",
    "print(\", \".join([\"a\", \"b\", \"c\"]))"
   ],
   "outputs": [],
   "metadata": {}
  },
  {
   "cell_type": "code",
   "execution_count": 3,
   "source": [
    "# Format strings\r\n",
    "print(f\"Result {1+4}\")\r\n",
    "print(f\"int in hexadecimal format {255:x}\")\r\n",
    "print(f\"int in octal format {255:o}\")\r\n",
    "print(f\"int in scientific format {255:e}\")\r\n",
    "print(f\"float with 2 decimals : {1/3:.2}\")\r\n",
    "print(f\"float with 6 width : {1/3:6}\")\r\n",
    "print(f\"float with 6 width and 2 decimals : {1/3:6.2}\")"
   ],
   "outputs": [
    {
     "output_type": "stream",
     "name": "stdout",
     "text": [
      "Result 5\n",
      "int in hexadecimal format ff\n",
      "int in octal format 377\n",
      "int in scientific format 2.550000e+02\n",
      "float with 2 decimals : 0.33\n",
      "float with 6 width : 0.3333333333333333\n",
      "float with 6 width and 2 decimals :   0.33\n"
     ]
    }
   ],
   "metadata": {}
  },
  {
   "cell_type": "code",
   "execution_count": 4,
   "source": [
    "# String content control\r\n",
    "print(\"alnum        :123abc :\" + str(\"123abc\".isalnum()))\r\n",
    "print(\"alnum        :123abc$ :\" + str(\"123abc$\".isalnum()))\r\n",
    "print(\"alpha        :abcds :\" + str(\"abcds\".isalpha()))\r\n",
    "print(\"alpha        :abcde123 :\" + str(\"abcde123\".isalpha()))\r\n",
    "print(\"digit        :1234 :\" + str(\"1234\".isdigit()))\r\n",
    "print(\"digit        :123erf :\" + str(\"123erf\".isdigit()))\r\n",
    "print(\"space        :   :\" + str(\"   \".isspace()))\r\n",
    "print(\"printable        :123erf $ :\" + str(\"123erf $\".isprintable()))\r\n",
    "print(\"printable        :\\\\na :\" + str(\"\\na\".isprintable()))\r\n",
    "print(\"lower        :ascvgf :\" + str(\"ascvgf\".islower()))\r\n",
    "print(\"upper        :AUYTDfg :\" + str(\"AUYTDfg\".isupper()))\r\n",
    "print(\"title        :Title :\" + str(\"Title\".istitle()))"
   ],
   "outputs": [
    {
     "output_type": "stream",
     "name": "stdout",
     "text": [
      "alnum        :123abc :True\n",
      "alnum        :123abc$ :False\n",
      "alpha        :abcds :True\n",
      "alpha        :abcde123 :False\n",
      "digit        :1234 :True\n",
      "digit        :123erf :False\n",
      "space        :   :True\n",
      "printable        :123erf $ :True\n",
      "printable        :\\na :False\n",
      "lower        :ascvgf :True\n",
      "upper        :AUYTDfg :False\n",
      "title        :Title :True\n"
     ]
    }
   ],
   "metadata": {}
  },
  {
   "cell_type": "code",
   "execution_count": null,
   "source": [],
   "outputs": [],
   "metadata": {}
  }
 ],
 "metadata": {
  "orig_nbformat": 4,
  "language_info": {
   "name": "python",
   "version": "3.8.5",
   "mimetype": "text/x-python",
   "codemirror_mode": {
    "name": "ipython",
    "version": 3
   },
   "pygments_lexer": "ipython3",
   "nbconvert_exporter": "python",
   "file_extension": ".py"
  },
  "kernelspec": {
   "name": "python3",
   "display_name": "Python 3.8.5 64-bit"
  },
  "interpreter": {
   "hash": "a45af67fc7882f7df34fca4bd34ac229ead963c4c77e66621640d4876c142c1a"
  }
 },
 "nbformat": 4,
 "nbformat_minor": 2
}