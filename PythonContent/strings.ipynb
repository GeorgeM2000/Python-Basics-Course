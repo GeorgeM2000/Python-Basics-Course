{
 "cells": [
  {
   "cell_type": "code",
   "execution_count": null,
   "metadata": {},
   "outputs": [],
   "source": [
    "# String conversions\n",
    "print(\"int : \", str(5))\n",
    "print(\"float : \", str(5.0))\n",
    "print(\"boolean : \", str(True))\n",
    "print(\"list : \", str([1,2]))\n",
    "print(\"tuple : \", str((1,2)))\n",
    "print(\"set : \", str({1,2}))\n",
    "print(\"dict : \", str({1:2, 3:4}))"
   ]
  },
  {
   "cell_type": "code",
   "execution_count": null,
   "metadata": {},
   "outputs": [],
   "source": [
    "# Convert a string into a list\n",
    "print(list(\"My name is George\"))"
   ]
  },
  {
   "cell_type": "code",
   "execution_count": 1,
   "metadata": {},
   "outputs": [
    {
     "name": "stdout",
     "output_type": "stream",
     "text": [
      "a b c\n",
      "a, b, c\n"
     ]
    }
   ],
   "source": [
    "# Join strings\n",
    "print(\" \".join([\"a\", \"b\", \"c\"]))\n",
    "print(\", \".join([\"a\", \"b\", \"c\"]))"
   ]
  },
  {
   "cell_type": "code",
   "execution_count": null,
   "metadata": {},
   "outputs": [],
   "source": [
    "# Format strings\n",
    "print(f\"Result {1+4}\")\n",
    "print(f\"int in hexadecimal format {255:x}\")\n",
    "print(f\"int in octal format {255:o}\")\n",
    "print(f\"int in scientific format {255:e}\")\n",
    "print(f\"float with 2 decimals : {1/3:.2}\")\n",
    "print(f\"float with 6 width : {1/3:6}\")\n",
    "print(f\"float with 6 width and 2 decimals : {1/3:6.2}\")"
   ]
  },
  {
   "cell_type": "code",
   "execution_count": null,
   "metadata": {},
   "outputs": [],
   "source": [
    "# String content control\n",
    "print(\"alnum        :123abc :\" + str(\"123abc\".isalnum()))\n",
    "print(\"alnum        :123abc$ :\" + str(\"123abc$\".isalnum()))\n",
    "print(\"alpha        :abcds :\" + str(\"abcds\".isalpha()))\n",
    "print(\"alpha        :abcde123 :\" + str(\"abcde123\".isalpha()))\n",
    "print(\"digit        :1234 :\" + str(\"1234\".isdigit()))\n",
    "print(\"digit        :123erf :\" + str(\"123erf\".isdigit()))\n",
    "print(\"space        :   :\" + str(\"   \".isspace()))\n",
    "print(\"printable        :123erf $ :\" + str(\"123erf $\".isprintable()))\n",
    "print(\"printable        :\\\\na :\" + str(\"\\na\".isprintable()))\n",
    "print(\"lower        :ascvgf :\" + str(\"ascvgf\".islower()))\n",
    "print(\"upper        :AUYTDfg :\" + str(\"AUYTDfg\".isupper()))\n",
    "print(\"title        :Title :\" + str(\"Title\".istitle()))"
   ]
  }
 ],
 "metadata": {
  "interpreter": {
   "hash": "a45af67fc7882f7df34fca4bd34ac229ead963c4c77e66621640d4876c142c1a"
  },
  "kernelspec": {
   "display_name": "Python 3.8.5 64-bit",
   "name": "python3"
  },
  "language_info": {
   "codemirror_mode": {
    "name": "ipython",
    "version": 3
   },
   "file_extension": ".py",
   "mimetype": "text/x-python",
   "name": "python",
   "nbconvert_exporter": "python",
   "pygments_lexer": "ipython3",
   "version": "3.8.5"
  },
  "orig_nbformat": 4
 },
 "nbformat": 4,
 "nbformat_minor": 2
}
