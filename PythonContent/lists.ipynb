{
    "cells": [
        {
            "cell_type": "code",
            "execution_count": null,
            "source": [
                "# Forward indexing. \r\n",
                "print(\"Forward indexing\")\r\n",
                "intList = [1,2,3,4,5,6]\r\n",
                "print(intList[0]); print(intList[1]); print(intList[2])"
            ],
            "outputs": [],
            "metadata": {}
        },
        {
            "cell_type": "code",
            "execution_count": null,
            "source": [
                "# Backward indexing\r\n",
                "print(\"Backward indexing\")\r\n",
                "print(intList[-1]); print(intList[-2]); print(intList[-3])"
            ],
            "outputs": [],
            "metadata": {}
        },
        {
            "cell_type": "code",
            "execution_count": 9,
            "source": [
                "# Now we will print a part of a list. We will use a starting index and an ending index.\r\n",
                "# When the starting index is not specified, it will assume it's a zero\r\n",
                "# When the ending index is not specified, it will go on until the end of the list\r\n",
                "charList = ['a', 'b', 'c', 'd','e','f','g']\r\n",
                "\r\n",
                "# 1st way\r\n",
                "startIndex = 0\r\n",
                "endIndex = 3\r\n",
                "print(charList[startIndex:endIndex])\r\n",
                "\r\n",
                "# 2nd way\r\n",
                "print(charList[0:3])\r\n",
                "\r\n",
                "print(charList[:-1])\r\n",
                "print(charList[2:])\r\n",
                "\r\n",
                "# Create a new list with all the elements of the 'charList' list except the last one\r\n",
                "newCharList = charList[:-1]    \r\n",
                "print(newCharList)"
            ],
            "outputs": [
                {
                    "output_type": "stream",
                    "name": "stdout",
                    "text": [
                        "['a', 'b', 'c']\n",
                        "['a', 'b', 'c']\n",
                        "['a', 'b', 'c', 'd', 'e', 'f']\n",
                        "['c', 'd', 'e', 'f', 'g']\n",
                        "['a', 'b', 'c', 'd', 'e', 'f']\n"
                    ]
                }
            ],
            "metadata": {}
        }
    ],
    "metadata": {
        "orig_nbformat": 4,
        "language_info": {
            "name": "python",
            "version": "3.8.5",
            "mimetype": "text/x-python",
            "codemirror_mode": {
                "name": "ipython",
                "version": 3
            },
            "pygments_lexer": "ipython3",
            "nbconvert_exporter": "python",
            "file_extension": ".py"
        },
        "kernelspec": {
            "name": "python3",
            "display_name": "Python 3.8.5 64-bit"
        },
        "interpreter": {
            "hash": "a45af67fc7882f7df34fca4bd34ac229ead963c4c77e66621640d4876c142c1a"
        }
    },
    "nbformat": 4,
    "nbformat_minor": 2
}