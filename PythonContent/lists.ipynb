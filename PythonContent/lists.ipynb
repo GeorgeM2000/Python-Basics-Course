{
    "cells": [
        {
            "cell_type": "code",
            "execution_count": null,
            "metadata": {},
            "outputs": [],
            "source": [
                "# Forward indexing. \n",
                "print(\"Forward indexing\")\n",
                "intList = [1,2,3,4,5,6]\n",
                "print(intList[0]); print(intList[1]); print(intList[2])"
            ]
        },
        {
            "cell_type": "code",
            "execution_count": null,
            "metadata": {},
            "outputs": [],
            "source": [
                "# Backward indexing\n",
                "print(\"Backward indexing\")\n",
                "print(intList[-1]); print(intList[-2]); print(intList[-3])"
            ]
        },
        {
            "cell_type": "code",
            "execution_count": null,
            "metadata": {},
            "outputs": [],
            "source": [
                "# Now we will print a part of a list. We will use a starting index and an ending index.\n",
                "# When the starting index is not specified, it will assume it's a zero\n",
                "# When the ending index is not specified, it will go on until the end of the list\n",
                "charList = ['a', 'b', 'c', 'd','e','f','g']\n",
                "\n",
                "# 1st way\n",
                "startIndex = 0\n",
                "endIndex = 3\n",
                "print(charList[startIndex:endIndex])\n",
                "\n",
                "# 2nd way\n",
                "print(charList[0:3:1])\n",
                "\n",
                "print(charList[:-1])\n",
                "print(charList[2:])\n",
                "\n",
                "# Create a new list with all the elements of the 'charList' list except the last one\n",
                "newCharList = charList[:-1]    \n",
                "print(newCharList)"
            ]
        },
        {
            "cell_type": "code",
            "execution_count": null,
            "metadata": {},
            "outputs": [],
            "source": [
                "# When we copy a list using the assignment operator, a problem occurs\n",
                "list1 = [1,2,3]\n",
                "list2 = list1\n",
                "list2[0] = 5\n",
                "print(list1)\n",
                "print(list2)\n",
                "print(list1 is list2)"
            ]
        },
        {
            "cell_type": "code",
            "execution_count": null,
            "metadata": {},
            "outputs": [],
            "source": [
                "# Solutions\n",
                "\n",
                "# Solution 1\n",
                "list1 = [1,2,3]\n",
                "list2 = list1[:]\n",
                "list2[0] = 5\n",
                "print(list1)\n",
                "print(list2)\n",
                "print(list1 is list2)\n",
                "\n",
                "# Solution 2\n",
                "list1 = [1,2,3]\n",
                "list2 = list1.copy()\n",
                "list2[0] = 5\n",
                "print(list1)\n",
                "print(list2)\n",
                "print(list1 is list2)"
            ]
        },
        {
            "cell_type": "code",
            "execution_count": null,
            "metadata": {},
            "outputs": [],
            "source": [
                "# List comprehensions\n",
                "\n",
                "# Example 1\n",
                "\n",
                "# Instead of using this method to create a list\n",
                "my_list = []\n",
                "for number in range(3):\n",
                "    my_list.append(number)\n",
                "\n",
                "# We use this method\n",
                "my_list = [number for number in range(3)]"
            ]
        },
        {
            "cell_type": "code",
            "execution_count": null,
            "metadata": {},
            "outputs": [],
            "source": [
                "# Example 2\n",
                "\n",
                "# Instead of this\n",
                "my_list = []\n",
                "for number in range(10):\n",
                "    if number % 2 == 0:\n",
                "        my_list.append(number)\n",
                "\n",
                "# Use this\n",
                "my_list = [number for number in range(10) if number % 2 == 0]"
            ]
        },
        {
            "cell_type": "code",
            "execution_count": null,
            "metadata": {},
            "outputs": [],
            "source": [
                "# Example 3\n",
                "\n",
                "# Instead of this\n",
                "my_list = []\n",
                "for number in range(10):\n",
                "    if number % 2 == 0:\n",
                "        my_list.append(number)\n",
                "    else:\n",
                "        my_list.append(number/2)\n",
                "\n",
                "# Use this\n",
                "my_list = [number if number % 2 == 0 else number/2 for number in range(10)]"
            ]
        },
        {
            "cell_type": "code",
            "execution_count": null,
            "metadata": {},
            "outputs": [],
            "source": [
                "# 2D Lists\n",
                "\n",
                "my_list = [\n",
                "    [1,2,3],\n",
                "    [4,5,6],\n",
                "    [7,8,9]\n",
                "]\n"
            ]
        },
        {
            "cell_type": "code",
            "execution_count": null,
            "metadata": {},
            "outputs": [],
            "source": [
                "# Example 1\n",
                "\n",
                "# Create a 2D list from user input\n",
                "\n",
                "array = []\n",
                "rows = int(input(\"Give number of rows: \"))\n",
                "col = int(input(\"Give number of columns: \"))\n",
                "for i in range(rows):\n",
                "    array.append([])\n",
                "    for j in range(col):\n",
                "        elem = int(input(\"Enter a number: \"))\n",
                "        array[i].append(elem)\n",
                "\n",
                "print(array)"
            ]
        },
        {
            "cell_type": "code",
            "execution_count": null,
            "metadata": {},
            "outputs": [],
            "source": [
                "# Example 2\n",
                "\n",
                "array = [[1,2,3], [4,5,6]]\n",
                "array[0][1] = 0\n",
                "for row in array:\n",
                "    for col_elem in row:\n",
                "        print(col_elem, end=\" \")\n",
                "    print()"
            ]
        },
        {
            "cell_type": "code",
            "execution_count": null,
            "metadata": {},
            "outputs": [],
            "source": [
                "# 2D list comprehensions\n",
                "\n",
                "my_list = [[i,j] for i in range(3) for j in range(3)]\n",
                "print(my_list)"
            ]
        }
    ],
    "metadata": {
        "interpreter": {
            "hash": "a45af67fc7882f7df34fca4bd34ac229ead963c4c77e66621640d4876c142c1a"
        },
        "kernelspec": {
            "display_name": "Python 3.8.5 64-bit",
            "name": "python3"
        },
        "language_info": {
            "codemirror_mode": {
                "name": "ipython",
                "version": 3
            },
            "file_extension": ".py",
            "mimetype": "text/x-python",
            "name": "python",
            "nbconvert_exporter": "python",
            "pygments_lexer": "ipython3",
            "version": "3.8.5"
        },
        "orig_nbformat": 4
    },
    "nbformat": 4,
    "nbformat_minor": 2
}
