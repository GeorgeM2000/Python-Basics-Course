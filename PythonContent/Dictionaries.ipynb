{
 "cells": [
  {
   "cell_type": "code",
   "execution_count": null,
   "source": [
    "# Dictionaries is a mutable collection with key-value pairs\r\n",
    "# Keys are immutable so they can't be sets or lists\r\n",
    "# Values are mutable\r\n",
    "\r\n",
    "empty = {}\r\n",
    "person = {\r\n",
    "    \"grade\":13,\r\n",
    "    (1,2):29,\r\n",
    "    \"name\":\"George\",\r\n",
    "}\r\n",
    "\r\n",
    "print(person)\r\n",
    "print(type(person))"
   ],
   "outputs": [],
   "metadata": {}
  },
  {
   "cell_type": "code",
   "execution_count": null,
   "source": [
    "# Dictionaries Methods\r\n",
    "\r\n",
    "student = {\r\n",
    "    \"name\":\"George\",\r\n",
    "    \"surname\":\"Matlis\",\r\n",
    "    \"age\":21,\r\n",
    "}\r\n",
    "\r\n",
    "# How to get the value of a key\r\n",
    "print(student[\"name\"])\r\n",
    "print(student.get(\"name\"))\r\n",
    "\r\n",
    "# How to add a key-value pair to dictionary\r\n",
    "# If the key exists, it updates the value \r\n",
    "# If the key doesn't exist, it creates a key-value pair\r\n",
    "student[\"university\"] = \"UOWM\" \r\n",
    "\r\n",
    "# How to copy a dictionary to another one\r\n",
    "student2 = student.copy()\r\n",
    "student2[\"Average Grade\"] = 8.25\r\n",
    "print(student)\r\n",
    "print(student2)"
   ],
   "outputs": [],
   "metadata": {}
  },
  {
   "cell_type": "code",
   "execution_count": null,
   "source": [
    "# How to remove a key-value pair\r\n",
    "student2.pop(\"Average Grade\")\r\n",
    "\r\n",
    "# How to remove the latest key-value pair\r\n",
    "student2.popitem()\r\n",
    "\r\n",
    "# How to remove all key-value pairs\r\n",
    "student2.clear()"
   ],
   "outputs": [],
   "metadata": {}
  },
  {
   "cell_type": "code",
   "execution_count": null,
   "source": [
    "# How to convert a list,tuple,set to a dictionary\r\n",
    "# In order to do that a list,tuple,set must contain a nested tuple with two elements\r\n",
    "teacher_list = [(\"name\",\"George\"), (\"surname\",\"Matlis\"), (\"subject\",\"C++ Programming\")]\r\n",
    "teacher = dict(teacher_list)\r\n",
    "teacher[\"AM\"] = 4109\r\n",
    "print(teacher)"
   ],
   "outputs": [],
   "metadata": {}
  },
  {
   "cell_type": "code",
   "execution_count": null,
   "source": [
    "# How to check if a key is in a dictionary\r\n",
    "user = {\"username\":\"GeorgeM\", \"password\":\"1234567\"}\r\n",
    "if \"second password\" not in user:\r\n",
    "    print(user[\"username\"] + \" has no second password.\")"
   ],
   "outputs": [],
   "metadata": {}
  },
  {
   "cell_type": "code",
   "execution_count": null,
   "source": [
    "# How to loop through a dictionary\r\n",
    "dict = {0:23, 1:2, 2:30, 3:45, 4:17, 5:6, 6:50}\r\n",
    "\r\n",
    "# Loop through all the keys\r\n",
    "for key in dict.keys():\r\n",
    "    print(key)\r\n",
    "\r\n",
    "print()\r\n",
    "\r\n",
    "# Loop through all the values\r\n",
    "for value in dict.values():\r\n",
    "    print(value)\r\n",
    "\r\n",
    "print()\r\n",
    "\r\n",
    "# Loop through all keys and values\r\n",
    "for key, value in dict.items():\r\n",
    "    print(f'{key}  {value}')"
   ],
   "outputs": [],
   "metadata": {}
  },
  {
   "cell_type": "code",
   "execution_count": null,
   "source": [
    "# Dictionaries comprehensions\r\n",
    "dict1 = {v:v**2 for v in range(10)}\r\n",
    "print(dict1)\r\n",
    "\r\n",
    "dict2 = {v:v**2 for v in range(10) if v%2 == 0}\r\n",
    "print(dict2)\r\n",
    "\r\n",
    "dict3 = {(i,j):0 for i in range(1,7) for j in range(1,7)}\r\n",
    "print(dict3)"
   ],
   "outputs": [],
   "metadata": {}
  },
  {
   "cell_type": "code",
   "execution_count": null,
   "source": [
    "# Nesting\r\n",
    "\r\n",
    "student1 = {\"name\":\"George\", \"AM\":4109}\r\n",
    "student2 = {\"name\":\"Maria\", \"AM\":4108}\r\n",
    "student3 = {\"name\":\"Panos\", \"AM\":4107}\r\n",
    "\r\n",
    "student_list = [student1, student2, student3]\r\n",
    "\r\n",
    "for student in student_list:\r\n",
    "    print(student)"
   ],
   "outputs": [],
   "metadata": {}
  },
  {
   "cell_type": "code",
   "execution_count": null,
   "source": [
    "# A list in a dictionary\r\n",
    "\r\n",
    "pizza = {\r\n",
    "    \"crust\":\"thick\",\r\n",
    "    \"toppings\":[\"bacon\", \"cheese\", \"mushrooms\"],\r\n",
    "}\r\n",
    "\r\n",
    "for topping in pizza[\"toppings\"]:\r\n",
    "    print(topping)"
   ],
   "outputs": [],
   "metadata": {}
  },
  {
   "cell_type": "code",
   "execution_count": null,
   "source": [
    "# A dictionary in a dictionary\r\n",
    "\r\n",
    "scientists = {\r\n",
    "    \"Einstein\": {\r\n",
    "        \"First Name\":\"Albert\",\r\n",
    "        \"Last Name\":\"Einstein\",\r\n",
    "        \"Speciality\":\"Physics\",\r\n",
    "    },\r\n",
    "    \"MCurie\" : {\r\n",
    "        \"First Name\":\"Marie\",\r\n",
    "        \"Last Name\":\"Curie\",\r\n",
    "        \"Speciality\":\"Physics,Chemistry\",\r\n",
    "    },\r\n",
    "\r\n",
    "}\r\n",
    "\r\n",
    "for scientist, scientistInfo in scientists.items():\r\n",
    "    print(f'{scientist}  {scientistInfo[\"Speciality\"]}')"
   ],
   "outputs": [],
   "metadata": {}
  }
 ],
 "metadata": {
  "orig_nbformat": 4,
  "language_info": {
   "name": "python",
   "version": "3.8.5",
   "mimetype": "text/x-python",
   "codemirror_mode": {
    "name": "ipython",
    "version": 3
   },
   "pygments_lexer": "ipython3",
   "nbconvert_exporter": "python",
   "file_extension": ".py"
  },
  "kernelspec": {
   "name": "python3",
   "display_name": "Python 3.8.5 64-bit"
  },
  "interpreter": {
   "hash": "a45af67fc7882f7df34fca4bd34ac229ead963c4c77e66621640d4876c142c1a"
  }
 },
 "nbformat": 4,
 "nbformat_minor": 2
}