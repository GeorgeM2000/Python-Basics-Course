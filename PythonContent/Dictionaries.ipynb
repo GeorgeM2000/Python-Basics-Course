{
 "cells": [
  {
   "cell_type": "code",
   "execution_count": null,
   "metadata": {},
   "outputs": [],
   "source": [
    "# Dictionaries is a mutable collection with key-value pairs\n",
    "# Keys are immutable so they can't be sets or lists\n",
    "# Values are mutable\n",
    "\n",
    "empty = {}\n",
    "person = {\n",
    "    \"grade\":13,\n",
    "    (1,2):29,\n",
    "    \"name\":\"George\",\n",
    "}\n",
    "\n",
    "print(person)\n",
    "print(type(person))"
   ]
  },
  {
   "cell_type": "code",
   "execution_count": null,
   "metadata": {},
   "outputs": [],
   "source": [
    "# Dictionaries Methods\n",
    "\n",
    "student = {\n",
    "    \"name\":\"George\",\n",
    "    \"surname\":\"Matlis\",\n",
    "    \"age\":21,\n",
    "}\n",
    "\n",
    "# How to get the value of a key\n",
    "print(student[\"name\"])\n",
    "print(student.get(\"name\"))\n",
    "\n",
    "# How to add a key-value pair to dictionary\n",
    "# If the key exists, it updates the value \n",
    "# If the key doesn't exist, it creates a key-value pair\n",
    "student[\"university\"] = \"UOWM\" \n",
    "\n",
    "# How to copy a dictionary to another one\n",
    "student2 = student.copy()\n",
    "student2[\"Average Grade\"] = 8.25\n",
    "print(student)\n",
    "print(student2)"
   ]
  },
  {
   "cell_type": "code",
   "execution_count": null,
   "metadata": {},
   "outputs": [],
   "source": [
    "# How to remove a key-value pair\n",
    "student2.pop(\"Average Grade\")\n",
    "\n",
    "# How to remove the latest key-value pair\n",
    "student2.popitem()\n",
    "\n",
    "# How to remove all key-value pairs\n",
    "student2.clear()"
   ]
  },
  {
   "cell_type": "code",
   "execution_count": null,
   "metadata": {},
   "outputs": [],
   "source": [
    "# How to convert a list,tuple,set to a dictionary\n",
    "# In order to do that a list,tuple,set must contain a nested tuple with two elements\n",
    "teacher_list = [(\"name\",\"George\"), (\"surname\",\"Matlis\"), (\"subject\",\"C++ Programming\")]\n",
    "teacher = dict(teacher_list)\n",
    "teacher[\"AM\"] = 4109\n",
    "print(teacher)"
   ]
  },
  {
   "cell_type": "code",
   "execution_count": null,
   "metadata": {},
   "outputs": [],
   "source": [
    "# How to check if a key is in a dictionary\n",
    "user = {\"username\":\"GeorgeM\", \"password\":\"1234567\"}\n",
    "if \"second password\" not in user:\n",
    "    print(user[\"username\"] + \" has no second password.\")"
   ]
  },
  {
   "cell_type": "code",
   "execution_count": null,
   "metadata": {},
   "outputs": [],
   "source": [
    "# How to loop through a dictionary\n",
    "dict = {0:23, 1:2, 2:30, 3:45, 4:17, 5:6, 6:50}\n",
    "\n",
    "# Loop through all the keys\n",
    "for key in dict.keys():\n",
    "    print(key)\n",
    "\n",
    "print()\n",
    "\n",
    "# Loop through all the values\n",
    "for value in dict.values():\n",
    "    print(value)\n",
    "\n",
    "print()\n",
    "\n",
    "# Loop through all keys and values\n",
    "for key, value in dict.items():\n",
    "    print(f'{key}  {value}')"
   ]
  },
  {
   "cell_type": "code",
   "execution_count": null,
   "metadata": {},
   "outputs": [],
   "source": [
    "# Dictionaries comprehensions\n",
    "dict1 = {v:v**2 for v in range(10)}\n",
    "print(dict1)\n",
    "print()\n",
    "\n",
    "dict2 = {v:v**2 for v in range(10) if v%2 == 0}\n",
    "print(dict2)\n",
    "print()\n",
    "\n",
    "dict3 = {(i,j):0 for i in range(1,7) for j in range(1,7)}\n",
    "print(dict3)\n",
    "print()"
   ]
  },
  {
   "cell_type": "code",
   "execution_count": null,
   "metadata": {},
   "outputs": [],
   "source": [
    "# Nesting\n",
    "\n",
    "student1 = {\"name\":\"George\", \"AM\":4109}\n",
    "student2 = {\"name\":\"Maria\", \"AM\":4108}\n",
    "student3 = {\"name\":\"Panos\", \"AM\":4107}\n",
    "\n",
    "student_list = [student1, student2, student3]\n",
    "\n",
    "for student in student_list:\n",
    "    print(student)"
   ]
  },
  {
   "cell_type": "code",
   "execution_count": null,
   "metadata": {},
   "outputs": [],
   "source": [
    "# A list in a dictionary\n",
    "\n",
    "pizza = {\n",
    "    \"crust\":\"thick\",\n",
    "    \"toppings\":[\"bacon\", \"cheese\", \"mushrooms\"],\n",
    "}\n",
    "\n",
    "for topping in pizza[\"toppings\"]:\n",
    "    print(topping)"
   ]
  },
  {
   "cell_type": "code",
   "execution_count": null,
   "metadata": {},
   "outputs": [],
   "source": [
    "# A dictionary in a dictionary\n",
    "\n",
    "scientists = {\n",
    "    \"Einstein\": {\n",
    "        \"First Name\":\"Albert\",\n",
    "        \"Last Name\":\"Einstein\",\n",
    "        \"Speciality\":\"Physics\",\n",
    "    },\n",
    "    \"MCurie\" : {\n",
    "        \"First Name\":\"Marie\",\n",
    "        \"Last Name\":\"Curie\",\n",
    "        \"Speciality\":\"Physics,Chemistry\",\n",
    "    },\n",
    "\n",
    "}\n",
    "\n",
    "for scientist, scientistInfo in scientists.items():\n",
    "    print(f'{scientist}  {scientistInfo[\"Speciality\"]}')"
   ]
  }
 ],
 "metadata": {
  "interpreter": {
   "hash": "a45af67fc7882f7df34fca4bd34ac229ead963c4c77e66621640d4876c142c1a"
  },
  "kernelspec": {
   "display_name": "Python 3.8.5 64-bit",
   "name": "python3"
  },
  "language_info": {
   "codemirror_mode": {
    "name": "ipython",
    "version": 3
   },
   "file_extension": ".py",
   "mimetype": "text/x-python",
   "name": "python",
   "nbconvert_exporter": "python",
   "pygments_lexer": "ipython3",
   "version": "3.8.5"
  },
  "orig_nbformat": 4
 },
 "nbformat": 4,
 "nbformat_minor": 2
}
