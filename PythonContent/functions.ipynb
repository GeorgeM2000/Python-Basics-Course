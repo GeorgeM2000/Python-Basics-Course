{
 "cells": [
  {
   "cell_type": "code",
   "execution_count": null,
   "source": [
    "# A function that returns a value\r\n",
    "def result(x,y):\r\n",
    "    return x+y\r\n",
    "res = result(10,5)"
   ],
   "outputs": [],
   "metadata": {}
  },
  {
   "cell_type": "code",
   "execution_count": 5,
   "source": [
    "# A function that returns multiple values\r\n",
    "def mulResults(x,y):\r\n",
    "    return x+y, x-y, x*y, x/y, x%y\r\n",
    "\r\n",
    "# If the function returns n values, then they must be stored in n variables\r\n",
    "add, sub, mul, div, modul = mulResults(10, 2)\r\n",
    "\r\n",
    "print(\"add : {}, sub : {}, mul : {}. div : {}, moodule : {}\".format(add, sub, mul, div, modul))"
   ],
   "outputs": [
    {
     "output_type": "stream",
     "name": "stdout",
     "text": [
      "add : 12, sub : 8, mul : 20. div : 5.0, moodule : 0\n"
     ]
    }
   ],
   "metadata": {}
  },
  {
   "cell_type": "code",
   "execution_count": 6,
   "source": [
    "# A function that returns nothing\r\n",
    "def foo():\r\n",
    "    return\r\n",
    "\r\n",
    "# 'returnType' variable will have a value of 'None'\r\n",
    "returnType = foo()\r\n",
    "\r\n",
    "print(type(returnType))"
   ],
   "outputs": [
    {
     "output_type": "stream",
     "name": "stdout",
     "text": [
      "<class 'NoneType'>\n"
     ]
    }
   ],
   "metadata": {}
  },
  {
   "cell_type": "code",
   "execution_count": null,
   "source": [
    "# Functions with existing parameter values\r\n",
    "def result(x=10, y=2):\r\n",
    "    return x+y\r\n",
    "\r\n",
    "# I call result() with no parameter values\r\n",
    "res = result()\r\n",
    "print(res)\r\n",
    "\r\n",
    "# I change the already set parameter value x=10 to x=20\r\n",
    "res = result(x=20)\r\n",
    "print(res)\r\n",
    "\r\n",
    "# I change the already set parameter value y=2 to y=4\r\n",
    "res = result(y=4)\r\n",
    "print(res)\r\n",
    "\r\n",
    "# I change both parameter values from x=10, y=2 to x=20, y=4\r\n",
    "res = result(x=20, y=4)\r\n",
    "print(res)"
   ],
   "outputs": [],
   "metadata": {}
  },
  {
   "cell_type": "markdown",
   "source": [
    "The parameters that don't have an already set value, e.g def foo(x, y=4) in this case x, we will need to specify the value of x when we call the function."
   ],
   "metadata": {}
  }
 ],
 "metadata": {
  "orig_nbformat": 4,
  "language_info": {
   "name": "python",
   "version": "3.8.5",
   "mimetype": "text/x-python",
   "codemirror_mode": {
    "name": "ipython",
    "version": 3
   },
   "pygments_lexer": "ipython3",
   "nbconvert_exporter": "python",
   "file_extension": ".py"
  },
  "kernelspec": {
   "name": "python3",
   "display_name": "Python 3.8.5 64-bit"
  },
  "interpreter": {
   "hash": "a45af67fc7882f7df34fca4bd34ac229ead963c4c77e66621640d4876c142c1a"
  }
 },
 "nbformat": 4,
 "nbformat_minor": 2
}