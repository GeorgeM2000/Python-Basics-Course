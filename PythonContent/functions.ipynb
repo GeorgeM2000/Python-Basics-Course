{
 "cells": [
  {
   "cell_type": "code",
   "execution_count": null,
   "metadata": {},
   "outputs": [],
   "source": [
    "# A function that returns a value\n",
    "def result(x,y):\n",
    "    return x+y\n",
    "res = result(10,5)"
   ]
  },
  {
   "cell_type": "code",
   "execution_count": null,
   "metadata": {},
   "outputs": [],
   "source": [
    "# A function that returns multiple values\n",
    "def mulResults(x,y):\n",
    "    return x+y, x-y, x*y, x/y, x%y\n",
    "\n",
    "# If the function returns n values, then they must be stored in n variables\n",
    "add, sub, mul, div, modul = mulResults(10, 2)\n",
    "\n",
    "print(\"add : {}, sub : {}, mul : {}. div : {}, moodule : {}\".format(add, sub, mul, div, modul))"
   ]
  },
  {
   "cell_type": "code",
   "execution_count": null,
   "metadata": {},
   "outputs": [],
   "source": [
    "# A function that returns nothing\n",
    "def foo():\n",
    "    return\n",
    "\n",
    "# 'returnType' variable will have a value of 'None'\n",
    "returnType = foo()\n",
    "\n",
    "print(type(returnType))"
   ]
  },
  {
   "cell_type": "code",
   "execution_count": null,
   "metadata": {},
   "outputs": [],
   "source": [
    "# Functions with existing parameter values\n",
    "def result(x=10, y=2):\n",
    "    return x+y\n",
    "\n",
    "# I call result() with no parameter values\n",
    "res = result()\n",
    "print(res)\n",
    "\n",
    "# I change the already set parameter value x=10 to x=20\n",
    "res = result(x=20)\n",
    "print(res)\n",
    "\n",
    "# I change the already set parameter value y=2 to y=4\n",
    "res = result(y=4)\n",
    "print(res)\n",
    "\n",
    "# I change both parameter values from x=10, y=2 to x=20, y=4\n",
    "res = result(x=20, y=4)\n",
    "print(res)"
   ]
  },
  {
   "cell_type": "code",
   "execution_count": null,
   "metadata": {},
   "outputs": [],
   "source": [
    "# A function with an arbitrary number of parameters\n",
    "\n",
    "def my_sum(*numbers):\n",
    "    print(numbers)\n",
    "    s = 0\n",
    "    for number in numbers:\n",
    "        print(number, end=\" \")\n",
    "        s += int(number)\n",
    "    return s\n",
    "\n",
    "print(f'sum={my_sum(1,2,3,4,5)}')"
   ]
  },
  {
   "cell_type": "code",
   "execution_count": null,
   "metadata": {},
   "outputs": [],
   "source": [
    "# A function inside a function\n",
    "\n",
    "# Example 1\n",
    "\n",
    "def f():\n",
    "    def g():\n",
    "        print(\"Hello!\")\n",
    "    g()\n",
    "    g()\n",
    "f()"
   ]
  },
  {
   "cell_type": "code",
   "execution_count": null,
   "metadata": {},
   "outputs": [],
   "source": [
    "# Example 2\n",
    "\n",
    "def fibonacci(n):\n",
    "    def fib_func(n):\n",
    "        if n == 0:\n",
    "            return 0\n",
    "        elif n == 1:\n",
    "            return 1\n",
    "        else:\n",
    "            return fib_func(n-1) + fib_func(n-2)\n",
    "\n",
    "    if n < 0:\n",
    "        return None\n",
    "    else:\n",
    "        return fib_func(n)\n",
    "\n",
    "for i in range(11):\n",
    "    print(f'fibonacci {i} = {fibonacci(i)}')"
   ]
  }
 ],
 "metadata": {
  "interpreter": {
   "hash": "a45af67fc7882f7df34fca4bd34ac229ead963c4c77e66621640d4876c142c1a"
  },
  "kernelspec": {
   "display_name": "Python 3.8.5 64-bit",
   "name": "python3"
  },
  "language_info": {
   "codemirror_mode": {
    "name": "ipython",
    "version": 3
   },
   "file_extension": ".py",
   "mimetype": "text/x-python",
   "name": "python",
   "nbconvert_exporter": "python",
   "pygments_lexer": "ipython3",
   "version": "3.8.5"
  },
  "orig_nbformat": 4
 },
 "nbformat": 4,
 "nbformat_minor": 2
}
